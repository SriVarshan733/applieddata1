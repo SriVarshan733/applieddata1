{
  "nbformat": 4,
  "nbformat_minor": 0,
  "metadata": {
    "colab": {
      "provenance": [],
      "authorship_tag": "ABX9TyPBT+MHef1Y+0clvGVhLJIf",
      "include_colab_link": true
    },
    "kernelspec": {
      "name": "python3",
      "display_name": "Python 3"
    },
    "language_info": {
      "name": "python"
    }
  },
  "cells": [
    {
      "cell_type": "markdown",
      "metadata": {
        "id": "view-in-github",
        "colab_type": "text"
      },
      "source": [
        "<a href=\"https://colab.research.google.com/github/SriVarshan733/applieddata1/blob/main/Untitled7.ipynb\" target=\"_parent\"><img src=\"https://colab.research.google.com/assets/colab-badge.svg\" alt=\"Open In Colab\"/></a>"
      ]
    },
    {
      "cell_type": "code",
      "execution_count": 1,
      "metadata": {
        "colab": {
          "base_uri": "https://localhost:8080/"
        },
        "id": "lwTFPu2DVvQ7",
        "outputId": "bbe0554e-d0c5-43a4-c73d-e84a02d60f70"
      },
      "outputs": [
        {
          "output_type": "stream",
          "name": "stdout",
          "text": [
            "checking connection\n"
          ]
        }
      ],
      "source": [
        "print(\"checking connection\")"
      ]
    },
    {
      "cell_type": "code",
      "source": [
        "print(\"checking after connection\")"
      ],
      "metadata": {
        "colab": {
          "base_uri": "https://localhost:8080/"
        },
        "id": "knjLYssmV-1D",
        "outputId": "de3cd379-869b-4080-bec1-c85661aebb05"
      },
      "execution_count": 2,
      "outputs": [
        {
          "output_type": "stream",
          "name": "stdout",
          "text": [
            "checking after connection\n"
          ]
        }
      ]
    },
    {
      "cell_type": "code",
      "source": [
        "print(\"final check\")"
      ],
      "metadata": {
        "id": "FFq8k-5jWVeh",
        "outputId": "83db05cf-778c-4517-8069-e83b6aded3c9",
        "colab": {
          "base_uri": "https://localhost:8080/"
        }
      },
      "execution_count": 3,
      "outputs": [
        {
          "output_type": "stream",
          "name": "stdout",
          "text": [
            "final check\n"
          ]
        }
      ]
    }
  ]
}